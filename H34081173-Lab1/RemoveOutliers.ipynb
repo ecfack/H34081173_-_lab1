{
 "cells": [
  {
   "cell_type": "code",
   "execution_count": 1,
   "metadata": {},
   "outputs": [
    {
     "name": "stdout",
     "output_type": "stream",
     "text": [
      "Enter the number of smallest and largest values to remove: 2\n",
      "Enter a value (q or Q to quit): -323\n",
      "Enter a value (q or Q to quit): -253463\n",
      "Enter a value (q or Q to quit): 5\n",
      "Enter a value (q or Q to quit): 6\n",
      "Enter a value (q or Q to quit): 7\n",
      "Enter a value (q or Q to quit): 214115\n",
      "Enter a value (q or Q to quit): 545363634\n",
      "Enter a value (q or Q to quit): q\n",
      "The original data:  [-323, -253463, 5, 6, 7, 214115, 545363634]\n",
      "The data with the outliers removed:  [5, 6, 7]\n",
      "The outliers:  [-253463, -323, 214115, 545363634]\n"
     ]
    }
   ],
   "source": [
    "def remove_outliers(numList,n):\n",
    "    #     Remove n largest elements and the n smallest elements\n",
    "    \n",
    "    #len(outliers)>len(numList)的情況\n",
    "    if n*2>len(numList):\n",
    "        return [],numList\n",
    "    \n",
    "    numList.sort()\n",
    "    \n",
    "    #numList分割成outliers和非outliers\n",
    "    newNumberList=numList[n:-n]\n",
    "    outliers=numList[:n]+numList[-n:]\n",
    "    #回傳結果\n",
    "    return newNumberList,outliers\n",
    "\n",
    "numbers=[]\n",
    "n=int(input(\"Enter the number of smallest and largest values to remove: \"))\n",
    "while True:\n",
    "    #輸入數字\n",
    "    value=input(\"Enter a value (q or Q to quit): \")\n",
    "    #直到輸入q或Q才退出loop\n",
    "    if value==\"q\" or value==\"Q\":\n",
    "        break\n",
    "    #數字丟進list\n",
    "    else:\n",
    "        value=int(value)\n",
    "        numbers.append(value)\n",
    "\n",
    "#打印結果\n",
    "print(\"The original data: \",numbers)\n",
    "newNumList,outliers=remove_outliers(numbers,n)\n",
    "print(\"The data with the outliers removed: \",newNumList)\n",
    "print(\"The outliers: \",outliers)"
   ]
  }
 ],
 "metadata": {
  "kernelspec": {
   "display_name": "Python 3",
   "language": "python",
   "name": "python3"
  },
  "language_info": {
   "codemirror_mode": {
    "name": "ipython",
    "version": 3
   },
   "file_extension": ".py",
   "mimetype": "text/x-python",
   "name": "python",
   "nbconvert_exporter": "python",
   "pygments_lexer": "ipython3",
   "version": "3.8.3"
  }
 },
 "nbformat": 4,
 "nbformat_minor": 4
}
