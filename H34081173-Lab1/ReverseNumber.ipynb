{
 "cells": [
  {
   "cell_type": "code",
   "execution_count": 7,
   "metadata": {},
   "outputs": [
    {
     "name": "stdout",
     "output_type": "stream",
     "text": [
      "Enter an integer:73320\n"
     ]
    },
    {
     "data": {
      "text/plain": [
       "'02337'"
      ]
     },
     "execution_count": 7,
     "metadata": {},
     "output_type": "execute_result"
    }
   ],
   "source": [
    "def reverse(num):\n",
    "    #此函數用於反轉數字並以字串回傳 ex:123->321,100->001\n",
    "    #紀錄是否為負數\n",
    "    isNegative=False\n",
    "    #起始為1是為了處理0結尾的狀況\n",
    "    result=1\n",
    "    \n",
    "    #紀錄num為負數並轉正\n",
    "    if num<0:\n",
    "        isNegative=True\n",
    "        num*=(-1)\n",
    "    \n",
    "    #開始一位一位反轉\n",
    "    while num>0:\n",
    "        result=result*10+num%10\n",
    "        num=num//10\n",
    "    \n",
    "    #原負數再次轉回負數\n",
    "    if isNegative:\n",
    "        return \"-\"+str(result)[1:]\n",
    "    \n",
    "    #由於result的預設值為1，所以會多一位，需去除\n",
    "    return str(result)[1:]\n",
    "\n",
    "#輸入數字\n",
    "num = int(input('Enter an integer:'))\n",
    "#反轉數字\n",
    "reverse(num)"
   ]
  }
 ],
 "metadata": {
  "kernelspec": {
   "display_name": "Python 3",
   "language": "python",
   "name": "python3"
  },
  "language_info": {
   "codemirror_mode": {
    "name": "ipython",
    "version": 3
   },
   "file_extension": ".py",
   "mimetype": "text/x-python",
   "name": "python",
   "nbconvert_exporter": "python",
   "pygments_lexer": "ipython3",
   "version": "3.8.3"
  }
 },
 "nbformat": 4,
 "nbformat_minor": 4
}
