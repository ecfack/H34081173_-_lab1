{
 "cells": [
  {
   "cell_type": "code",
   "execution_count": 11,
   "metadata": {},
   "outputs": [
    {
     "name": "stdout",
     "output_type": "stream",
     "text": [
      "Welcome to ROCK, PAPER, SCISSORS game!\n"
     ]
    }
   ],
   "source": [
    "import random\n",
    "def selectRandMove():\n",
    "    #     Choose a random selection from ROCK,PAPER or SCISSORS.\n",
    "    #     1:ROCK 2:PAPER 3:SCISSORS\n",
    "    move=random.randint(1,3)\n",
    "    if move==1:\n",
    "        return ROCK\n",
    "    elif move==2:\n",
    "        return PAPER\n",
    "    else:\n",
    "        return SCISSORS\n",
    "def decideWinnerAndPrintResult(playerMove,computerMove):\n",
    "    #     Decide wherther player is lose and retrun status code.\n",
    "    #     statuse code => 0:tie 1:player lose 2:player win\n",
    "    if playerMove==ROCK:\n",
    "        if computerMove==ROCK:\n",
    "            print(\"It is a tie!\")\n",
    "            return 0\n",
    "        elif computerMove==PAPER:\n",
    "            print(\"You lose!\")\n",
    "            return 1\n",
    "        else:\n",
    "            print(\"You win!\")\n",
    "            return 2\n",
    "    elif playerMove==PAPER:\n",
    "        if computerMove==ROCK:\n",
    "            print(\"You win!\")\n",
    "            return 2\n",
    "        elif computerMove==PAPER:\n",
    "            print(\"It is a tie!\")\n",
    "            return 0\n",
    "        else:\n",
    "            print(\"You lose!\")\n",
    "            return 1\n",
    "    else:\n",
    "        if computerMove==ROCK:\n",
    "            print(\"You lose!\")\n",
    "            return 1\n",
    "        elif computerMove==PAPER:\n",
    "            print(\"You win!\")\n",
    "            return 2\n",
    "        else:\n",
    "            print(\"It is a tie!\")\n",
    "            return 0\n",
    "\n",
    "#def const\n",
    "ROCK=\"r\"\n",
    "PAPER=\"p\"\n",
    "SCISSORS=\"s\"\n",
    "#counter\n",
    "tieCtr=0\n",
    "loseCtr=0\n",
    "#紀錄是否已經贏過了\n",
    "isWin=False\n",
    "print(\"Welcome to ROCK, PAPER, SCISSORS game!\")"
   ]
  },
  {
   "cell_type": "code",
   "execution_count": null,
   "metadata": {},
   "outputs": [
    {
     "name": "stdout",
     "output_type": "stream",
     "text": [
      "Enter your move: (r)ock (p)aper (s)cissors s\n",
      "SCISSORS versus...\n",
      "SCISSORS\n",
      "It is a tie!\n",
      "Enter your move: (r)ock (p)aper (s)cissors p\n",
      "PAPER versus...\n",
      "SCISSORS\n",
      "You lose!\n"
     ]
    }
   ],
   "source": [
    "#如果還沒贏就繼續猜拳\n",
    "while not isWin:\n",
    "    #玩家出拳\n",
    "    playerMove=input(\"Enter your move: (r)ock (p)aper (s)cissors \")\n",
    "    while True:\n",
    "        if playerMove==ROCK:\n",
    "            print(\"ROCK versus...\")\n",
    "            break\n",
    "        elif playerMove==PAPER:\n",
    "            print(\"PAPER versus...\")\n",
    "            break\n",
    "        elif playerMove==SCISSORS:\n",
    "            print(\"SCISSORS versus...\")\n",
    "            break\n",
    "        else:    #亂打的情況會隨機指派出拳\n",
    "            playerMove=selectRandMove()\n",
    "    \n",
    "    #電腦出拳\n",
    "    computerMove=selectRandMove()\n",
    "    \n",
    "    if computerMove==ROCK:\n",
    "        print(\"ROCK\")\n",
    "    elif computerMove==PAPER:\n",
    "        print(\"PAPER\")\n",
    "    else:\n",
    "        print(\"SCISSORS\")\n",
    "        \n",
    "    #結果判定並打印訊息\n",
    "    result=decideWinnerAndPrintResult(playerMove,computerMove)\n",
    "    #result => 0:tie 1:player lose 2:player win\n",
    "    if result==0:\n",
    "        tieCtr+=1\n",
    "    elif result==1:\n",
    "        loseCtr+=1\n",
    "    else:\n",
    "        isWin=True\n",
    "#打印結果\n",
    "print(f\"You have {tieCtr} ties and {loseCtr} losses before your first win.\")"
   ]
  },
  {
   "cell_type": "code",
   "execution_count": null,
   "metadata": {},
   "outputs": [],
   "source": []
  }
 ],
 "metadata": {
  "kernelspec": {
   "display_name": "Python 3",
   "language": "python",
   "name": "python3"
  },
  "language_info": {
   "codemirror_mode": {
    "name": "ipython",
    "version": 3
   },
   "file_extension": ".py",
   "mimetype": "text/x-python",
   "name": "python",
   "nbconvert_exporter": "python",
   "pygments_lexer": "ipython3",
   "version": "3.8.3"
  }
 },
 "nbformat": 4,
 "nbformat_minor": 4
}
